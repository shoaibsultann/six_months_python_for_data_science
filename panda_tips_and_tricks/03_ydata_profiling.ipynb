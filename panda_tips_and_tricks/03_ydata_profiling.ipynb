{
 "cells": [
  {
   "cell_type": "markdown",
   "metadata": {},
   "source": [
    "# Automatic EDA using `ydata_profiling`"
   ]
  },
  {
   "cell_type": "code",
   "execution_count": 18,
   "metadata": {},
   "outputs": [],
   "source": [
    "#Import Libraries\n",
    "import pandas as pd\n",
    "import seaborn as sns\n",
    "import ydata_profiling as yd\n"
   ]
  },
  {
   "cell_type": "code",
   "execution_count": 15,
   "metadata": {},
   "outputs": [],
   "source": [
    "# import data from seaborn\n",
    "df = sns.load_dataset('titanic')\n"
   ]
  },
  {
   "cell_type": "code",
   "execution_count": 22,
   "metadata": {},
   "outputs": [
    {
     "name": "stderr",
     "output_type": "stream",
     "text": [
      "Summarize dataset: 100%|██████████| 41/41 [00:01<00:00, 24.54it/s, Completed]                     \n",
      "Generate report structure: 100%|██████████| 1/1 [00:01<00:00,  1.73s/it]\n",
      "Render HTML: 100%|██████████| 1/1 [00:00<00:00,  2.01it/s]\n",
      "Export report to file: 100%|██████████| 1/1 [00:00<00:00, 259.89it/s]\n"
     ]
    }
   ],
   "source": [
    "# ydata profile report\n",
    "profile = yd.ProfileReport(df)\n",
    "profile.to_file(output_file='./outputs/03_ydata_titanic.html')"
   ]
  },
  {
   "cell_type": "markdown",
   "metadata": {},
   "source": [
    "# Do it on our Pakistan Population Dataset"
   ]
  },
  {
   "cell_type": "code",
   "execution_count": 24,
   "metadata": {},
   "outputs": [],
   "source": [
    "df_pop = pd.read_csv(\"./data/data.csv\")\n"
   ]
  },
  {
   "cell_type": "code",
   "execution_count": 23,
   "metadata": {},
   "outputs": [
    {
     "name": "stderr",
     "output_type": "stream",
     "text": [
      "Summarize dataset: 100%|██████████| 319/319 [00:15<00:00, 21.24it/s, Completed]                                                     \n",
      "Generate report structure: 100%|██████████| 1/1 [00:03<00:00,  3.92s/it]\n",
      "Render HTML: 100%|██████████| 1/1 [00:04<00:00,  4.13s/it]\n",
      "Export report to file: 100%|██████████| 1/1 [00:00<00:00, 63.38it/s]\n"
     ]
    }
   ],
   "source": [
    "profile = yd.ProfileReport(df_pop)\n",
    "profile.to_file(output_file='./outputs/03b_ydata_pak_population.html')"
   ]
  },
  {
   "cell_type": "code",
   "execution_count": null,
   "metadata": {},
   "outputs": [],
   "source": []
  }
 ],
 "metadata": {
  "kernelspec": {
   "display_name": "ydata_profiling",
   "language": "python",
   "name": "python3"
  },
  "language_info": {
   "codemirror_mode": {
    "name": "ipython",
    "version": 3
   },
   "file_extension": ".py",
   "mimetype": "text/x-python",
   "name": "python",
   "nbconvert_exporter": "python",
   "pygments_lexer": "ipython3",
   "version": "3.10.0"
  }
 },
 "nbformat": 4,
 "nbformat_minor": 2
}
